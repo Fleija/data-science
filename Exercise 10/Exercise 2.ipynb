{
 "cells": [
  {
   "cell_type": "markdown",
   "id": "c40f9b59",
   "metadata": {},
   "source": [
    "# Exercise 2\n",
    "Please classify this flower using KNN (with all libs available as you like)."
   ]
  },
  {
   "cell_type": "markdown",
   "id": "0f534d14",
   "metadata": {},
   "source": [
    "### Iris Import\n",
    "Zunächst muss das Iris-Dataset importiert werden. Hierbei wird der Datensatz in iris_data und iris_labels aufgeteilt. iris_data umfasst hierbei die Daten der gemessenen Sepal und Petal Längen und Breiten, während iris_labels die Arten der iris-Pflanze (Setosa, Versicolor, Virginica) passend zum Datensatz abbildet."
   ]
  },
  {
   "cell_type": "code",
   "execution_count": 1,
   "id": "5be37268",
   "metadata": {},
   "outputs": [
    {
     "data": {
      "text/plain": [
       "array([5.1, 3.5, 1.4, 0.2])"
      ]
     },
     "execution_count": 1,
     "metadata": {},
     "output_type": "execute_result"
    }
   ],
   "source": [
    "import numpy as np\n",
    "from sklearn import datasets\n",
    "\n",
    "iris = datasets.load_iris()\n",
    "iris_data = iris.data\n",
    "iris_labels = iris.target\n",
    "\n",
    "iris_data[0]"
   ]
  },
  {
   "cell_type": "markdown",
   "id": "f62d5480",
   "metadata": {},
   "source": [
    "### Creating Learnset\n",
    "Zunächst wird ein Learnset erstellt, dessen Basis eine durch Zufall gewählte Zahl ist, um den Datensatz zufällig aufteilen zu können. Zusätzlich wird festgelegt, dass es genau 15 Datensätze für das Learnset geben soll. Die so ausgewählten Daten werden in eigenen Variablen, learnset_data und learnset_labels gespeichert. \n",
    "\n",
    "Anschließend wird die durch die Aufgabe gegebene Iris (4.8,2.5,5.3,2.4) genutzt, um die Daten für das Testset einzusetzen. Im Rahmen dieser Ausführungen soll erkannt werden zu welcher Iris-Gruppe diese Iris gehört."
   ]
  },
  {
   "cell_type": "code",
   "execution_count": 2,
   "id": "ca000bf7",
   "metadata": {},
   "outputs": [
    {
     "data": {
      "text/plain": [
       "[4.8, 2.5, 5.3, 2.4]"
      ]
     },
     "execution_count": 2,
     "metadata": {},
     "output_type": "execute_result"
    }
   ],
   "source": [
    "np.random.seed(13)\n",
    "indices = np.random.permutation(len(iris_data))\n",
    "n_training_samples = 15\n",
    "\n",
    "learnset_data = iris_data[indices[:-n_training_samples]]\n",
    "learnset_labels = iris_labels[indices[:-n_training_samples]]\n",
    "\n",
    "testset_data = [4.8, 2.5, 5.3, 2.4]\n",
    "\n",
    "testset_data"
   ]
  },
  {
   "cell_type": "markdown",
   "id": "2c0b6ee0",
   "metadata": {},
   "source": [
    "### Euklidische Abstandsfunktion und Normalisierung\n",
    "Anschließend wird eine Funktion für den euklidischen Abstand und Normalisierung erstellt. Diese wird in einem Schritt vorgenommen. Zwei Punkte werden voneinander subtrahiert und das Ergebnis dieses Schrittes wird durch die numpy-Funktion linalg.norm() normalisiert."
   ]
  },
  {
   "cell_type": "code",
   "execution_count": 3,
   "id": "883dccc1",
   "metadata": {},
   "outputs": [
    {
     "name": "stdout",
     "output_type": "stream",
     "text": [
      "2.696293752542553\n"
     ]
    }
   ],
   "source": [
    "def distance(instance1, instance2):\n",
    "    instance1 = np.array(instance1) \n",
    "    instance2 = np.array(instance2)    \n",
    "    return np.linalg.norm(instance1 - instance2)\n",
    "\n",
    "print(distance(learnset_data[13], learnset_data[42]))"
   ]
  },
  {
   "cell_type": "markdown",
   "id": "a4e93ae6",
   "metadata": {},
   "source": [
    "### Nachbarn finden\n",
    "In diesem Schritt wird eine Funktion erstellt, die k Nachbarn eines Punktes finden kann. Hierfür wird die Distanz der Punkte in einer For-Schleife errechnet und anschließend sortiert. Nach der Sortierung werden die k dichtesten Nachbarn zurückgegeben. \n",
    "\n",
    "Eingesetzt wird dies in dem Iris-Beispiel für die k=3 dichtesten Nachbarn, sodass der Aufruf der so erstellten Funktion genau drei Ergebnisse zurückliefert. "
   ]
  },
  {
   "cell_type": "code",
   "execution_count": 4,
   "id": "05503405",
   "metadata": {},
   "outputs": [],
   "source": [
    "def get_neighbors(training_set, labels, test_instance, k, distance=distance):\n",
    "    distances = []\n",
    "    for index in range(len(training_set)):\n",
    "        dist = distance(test_instance, training_set[index])\n",
    "        distances.append((training_set[index], dist, labels[index]))\n",
    "    distances.sort(key=lambda x: x[1])\n",
    "    neighbors = distances[:k]\n",
    "    return neighbors"
   ]
  },
  {
   "cell_type": "code",
   "execution_count": 5,
   "id": "cf6ff8c8",
   "metadata": {},
   "outputs": [
    {
     "name": "stdout",
     "output_type": "stream",
     "text": [
      "(array([5.6, 2.8, 4.9, 2. ]), 1.0246950765959595, 2)\n",
      "(array([5.7, 2.5, 5. , 2. ]), 1.0295630140987002, 2)\n",
      "(array([5.8, 2.8, 5.1, 2.4]), 1.0630145812734648, 2)\n"
     ]
    }
   ],
   "source": [
    "neighbors = get_neighbors(learnset_data, learnset_labels, testset_data, 3, distance=distance)\n",
    "\n",
    "print(neighbors[0])\n",
    "print(neighbors[1])\n",
    "print(neighbors[2])"
   ]
  },
  {
   "cell_type": "markdown",
   "id": "43273425",
   "metadata": {},
   "source": [
    "### Target Class ermitteln\n",
    "Anhand der get_neighbors-Funktion kann bereits erkannt werden, dass durch k=3 Ergebnisse drei Mal die 2 als Target Klasse vor kommt. Damit kann schon jetzt abgelesen werden, dass die 2 als Ergebnis aus dem Test hervor geht. Zusätzlich kann jedoch eine weitere Funktion erstellt werden, welche es ermöglicht eben diese ausgewählten Target Klassen zu erkennen und diese als ein Vote-Result darzustellen. \n",
    "Hierfür wurde eine vote()-Funktion erstellt, die das Ergebnis der Nachbarn nutzt, um pro Durchlauf der For-Schleife einen Counter hochzuzählen, der zählt, wie oft welche Target Klasse in den Nachbarn erkannt wird. Anschließend wird die am häufigsten genannte Klasse als Vote-Ergebnis wiedergegeben. Auch durch diese Funktion wird schließlich die 2 als Target Class ermittelt. Die 2 ist in diesem Fall das Label für die Iris Virginica."
   ]
  },
  {
   "cell_type": "code",
   "execution_count": 6,
   "id": "52858353",
   "metadata": {},
   "outputs": [],
   "source": [
    "from collections import Counter\n",
    "def vote(neighbors):\n",
    "    class_counter = Counter()\n",
    "    for neighbor in neighbors:\n",
    "        class_counter[neighbor[2]] += 1\n",
    "    return class_counter.most_common(1)[0][0]"
   ]
  },
  {
   "cell_type": "code",
   "execution_count": 7,
   "id": "e749089f",
   "metadata": {},
   "outputs": [
    {
     "name": "stdout",
     "output_type": "stream",
     "text": [
      "result of vote:  2 , data:  [4.8, 2.5, 5.3, 2.4]\n"
     ]
    }
   ],
   "source": [
    "neighbors = get_neighbors(learnset_data, learnset_labels, testset_data, 3, distance=distance)\n",
    "\n",
    "print(\"result of vote: \", vote(neighbors),\", data: \", testset_data)"
   ]
  }
 ],
 "metadata": {
  "kernelspec": {
   "display_name": "Python 3",
   "language": "python",
   "name": "python3"
  },
  "language_info": {
   "codemirror_mode": {
    "name": "ipython",
    "version": 3
   },
   "file_extension": ".py",
   "mimetype": "text/x-python",
   "name": "python",
   "nbconvert_exporter": "python",
   "pygments_lexer": "ipython3",
   "version": "3.8.8"
  }
 },
 "nbformat": 4,
 "nbformat_minor": 5
}
