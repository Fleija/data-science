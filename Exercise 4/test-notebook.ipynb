{
 "cells": [
  {
   "cell_type": "markdown",
   "id": "3beca5d7",
   "metadata": {},
   "source": [
    "# Mein Test von Jupyter Notebook\n",
    "\n",
    "## Dies ist eine etwas kleinere Überschrift\n",
    "Hier steht Text der unter der Überschrift steht. Man kann den Text <strong>fett</strong> oder <font color=\"blue\">b</font><font color=\"red\">u</font><font color=\"yellow\">n</font><font color=\"green\">t</font> machen. Aber auch vieles mehr, wie z.B. eine ...\n",
    "\n",
    "#### ... Tabelle\n",
    "Spalte 1 | Spalte 2\n",
    "    ------ | ------\n",
    "Zelle 1   | Zelle 2 \n",
    "\n",
    "\n",
    "#### ... oder eine Liste\n",
    "- Mit\n",
    "* ganz\n",
    "- vielen\n",
    "+ Punkten\n",
    "\n",
    "\n",
    "\n",
    "### Python Tests\n",
    "In einem Jupyter Notebook kann Python ausgeführt werden. Dafür muss statt \"Markdown\" eine \"Code-Cell\" erstellt werden. Darin kann Python ausgeführt werden."
   ]
  },
  {
   "cell_type": "code",
   "execution_count": 1,
   "id": "a3c8f517",
   "metadata": {},
   "outputs": [
    {
     "name": "stdout",
     "output_type": "stream",
     "text": [
      "Mein erstes Jupyter Notebook!\n"
     ]
    }
   ],
   "source": [
    "print(\"Mein erstes Jupyter Notebook!\")"
   ]
  },
  {
   "cell_type": "markdown",
   "id": "c794f57c",
   "metadata": {},
   "source": [
    "### Funktionstest\n",
    "Man kann auch ganze Funktionen und Abläufe in einem Jupyter Notebook realisieren."
   ]
  },
  {
   "cell_type": "code",
   "execution_count": 4,
   "id": "8017bfeb",
   "metadata": {},
   "outputs": [
    {
     "name": "stdout",
     "output_type": "stream",
     "text": [
      "Hallo Modul Data Science!\n"
     ]
    }
   ],
   "source": [
    "def function(input):\n",
    "    return input == \"Ja\"\n",
    "\n",
    "def start():\n",
    "    if(function(\"Ja\")):\n",
    "        print(\"Hallo Modul Data Science!\")\n",
    "        \n",
    "start()"
   ]
  },
  {
   "cell_type": "markdown",
   "id": "95ec53c7",
   "metadata": {},
   "source": [
    "## Jupyter ...\n",
    "Kann somit genutzt werden, um verschiedenste Inhalte in Python darzustellen und zusätzlich eine einheitliche und gut lesbare Dokumentation zu erstellen. "
   ]
  }
 ],
 "metadata": {
  "kernelspec": {
   "display_name": "Python 3",
   "language": "python",
   "name": "python3"
  },
  "language_info": {
   "codemirror_mode": {
    "name": "ipython",
    "version": 3
   },
   "file_extension": ".py",
   "mimetype": "text/x-python",
   "name": "python",
   "nbconvert_exporter": "python",
   "pygments_lexer": "ipython3",
   "version": "3.8.8"
  }
 },
 "nbformat": 4,
 "nbformat_minor": 5
}
