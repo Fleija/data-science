{
 "cells": [
  {
   "cell_type": "markdown",
   "id": "1bf621c1",
   "metadata": {},
   "source": [
    "# Exercise 1\n",
    "*Make up your own personal dataset and predict the regression curve.*"
   ]
  },
  {
   "cell_type": "markdown",
   "id": "331df425",
   "metadata": {},
   "source": [
    "### Daten importieren\n",
    "Als Dataset werden die Größe in Zusammenhang mit dem Gewicht von Pokémon der ersten Generation aufgetragen. Hierfür werden die Daten aus der dataset.csv importiert und beispielhaft dargestellt."
   ]
  },
  {
   "cell_type": "code",
   "execution_count": 1,
   "id": "676f9570",
   "metadata": {},
   "outputs": [
    {
     "data": {
      "text/html": [
       "<div>\n",
       "<style scoped>\n",
       "    .dataframe tbody tr th:only-of-type {\n",
       "        vertical-align: middle;\n",
       "    }\n",
       "\n",
       "    .dataframe tbody tr th {\n",
       "        vertical-align: top;\n",
       "    }\n",
       "\n",
       "    .dataframe thead th {\n",
       "        text-align: right;\n",
       "    }\n",
       "</style>\n",
       "<table border=\"1\" class=\"dataframe\">\n",
       "  <thead>\n",
       "    <tr style=\"text-align: right;\">\n",
       "      <th></th>\n",
       "      <th>Height</th>\n",
       "      <th>Weight</th>\n",
       "    </tr>\n",
       "  </thead>\n",
       "  <tbody>\n",
       "    <tr>\n",
       "      <th>0</th>\n",
       "      <td>70</td>\n",
       "      <td>6900</td>\n",
       "    </tr>\n",
       "    <tr>\n",
       "      <th>1</th>\n",
       "      <td>100</td>\n",
       "      <td>13000</td>\n",
       "    </tr>\n",
       "    <tr>\n",
       "      <th>2</th>\n",
       "      <td>200</td>\n",
       "      <td>100000</td>\n",
       "    </tr>\n",
       "    <tr>\n",
       "      <th>3</th>\n",
       "      <td>60</td>\n",
       "      <td>8500</td>\n",
       "    </tr>\n",
       "    <tr>\n",
       "      <th>4</th>\n",
       "      <td>110</td>\n",
       "      <td>19000</td>\n",
       "    </tr>\n",
       "    <tr>\n",
       "      <th>...</th>\n",
       "      <td>...</td>\n",
       "      <td>...</td>\n",
       "    </tr>\n",
       "    <tr>\n",
       "      <th>131</th>\n",
       "      <td>160</td>\n",
       "      <td>52600</td>\n",
       "    </tr>\n",
       "    <tr>\n",
       "      <th>132</th>\n",
       "      <td>200</td>\n",
       "      <td>60000</td>\n",
       "    </tr>\n",
       "    <tr>\n",
       "      <th>133</th>\n",
       "      <td>180</td>\n",
       "      <td>3300</td>\n",
       "    </tr>\n",
       "    <tr>\n",
       "      <th>134</th>\n",
       "      <td>400</td>\n",
       "      <td>16500</td>\n",
       "    </tr>\n",
       "    <tr>\n",
       "      <th>135</th>\n",
       "      <td>40</td>\n",
       "      <td>4000</td>\n",
       "    </tr>\n",
       "  </tbody>\n",
       "</table>\n",
       "<p>136 rows × 2 columns</p>\n",
       "</div>"
      ],
      "text/plain": [
       "     Height  Weight\n",
       "0        70    6900\n",
       "1       100   13000\n",
       "2       200  100000\n",
       "3        60    8500\n",
       "4       110   19000\n",
       "..      ...     ...\n",
       "131     160   52600\n",
       "132     200   60000\n",
       "133     180    3300\n",
       "134     400   16500\n",
       "135      40    4000\n",
       "\n",
       "[136 rows x 2 columns]"
      ]
     },
     "execution_count": 1,
     "metadata": {},
     "output_type": "execute_result"
    }
   ],
   "source": [
    "import pandas as pd\n",
    "import matplotlib.pyplot as plot\n",
    "\n",
    "from sklearn.model_selection import train_test_split\n",
    "from sklearn.linear_model import LinearRegression\n",
    "\n",
    "stats = pd.read_csv(r\"https://raw.githubusercontent.com/Fleija/data-science/main/Exercise%209/dataset.csv\")\n",
    "stats"
   ]
  },
  {
   "cell_type": "markdown",
   "id": "9ef87a41",
   "metadata": {},
   "source": [
    "### Plotting\n",
    "Die eingegebenen Daten sollen in einem Plot dargestellt werden. Dafür werden die Daten für die Größe mit 100 und die Daten für das Gewicht durch 1000 geteilt, um die Angaben von cm in m und von g in kg umzurechnen."
   ]
  },
  {
   "cell_type": "code",
   "execution_count": 9,
   "id": "7aacb7c4",
   "metadata": {
    "scrolled": true
   },
   "outputs": [
    {
     "data": {
      "image/png": "[encoded data removed]",
      "text/plain": [
       "<Figure size 432x288 with 1 Axes>"
      ]
     },
     "metadata": {
      "needs_background": "light"
     },
     "output_type": "display_data"
    }
   ],
   "source": [
    "x = stats['Weight'].values / 1000\n",
    "y = stats['Height'].values / 100\n",
    "\n",
    "plot.plot(y)\n",
    "plot.xlabel('Weight in kg')\n",
    "plot.ylabel('Height in m')\n",
    "plot.show()"
   ]
  },
  {
   "cell_type": "markdown",
   "id": "317564c6",
   "metadata": {},
   "source": [
    "Außerdem werden die Daten in einem Plot mit Daten als einzelnen Punkten dargestellt."
   ]
  },
  {
   "cell_type": "code",
   "execution_count": 11,
   "id": "4c72a6a2",
   "metadata": {
    "scrolled": true
   },
   "outputs": [
    {
     "data": {
      "text/plain": [
       "<matplotlib.collections.PathCollection at 0x1ea84f6ac40>"
      ]
     },
     "execution_count": 11,
     "metadata": {},
     "output_type": "execute_result"
    },
    {
     "data": {
      "image/png": "[encoded data removed]",
      "text/plain": [
       "<Figure size 432x288 with 1 Axes>"
      ]
     },
     "metadata": {
      "needs_background": "light"
     },
     "output_type": "display_data"
    }
   ],
   "source": [
    "plot.xlabel('Weight in kg')\n",
    "plot.ylabel('Height in m')\n",
    "plot.scatter(x, y)"
   ]
  },
  {
   "cell_type": "markdown",
   "id": "f9821e52",
   "metadata": {},
   "source": [
    "Zum Überprüfen und veranschaulichen der Daten werden sie noch einmal ausgegeben."
   ]
  },
  {
   "cell_type": "code",
   "execution_count": 4,
   "id": "09371bfb",
   "metadata": {
    "scrolled": true
   },
   "outputs": [
    {
     "name": "stdout",
     "output_type": "stream",
     "text": [
      "[  6.9  13.  100.    8.5  19.   90.5   9.   22.5  85.5   2.9   9.9  32.\n",
      "   3.2  10.   29.5   1.8  30.   39.5   3.5  18.5   2.   38.    6.9  65.\n",
      "   6.   30.   12.   29.5   7.   20.   60.    9.   19.5  62.    7.5  40.\n",
      "   9.9  19.9   5.5  12.    7.5  55.    5.4   8.6  18.6   5.4  29.5  30.\n",
      "  12.5   0.8  33.3   4.2  32.   19.6  76.6  28.   32.   19.   12.4  20.\n",
      "  54.   19.5  56.5  48.   19.5  70.5   4.    6.4  15.5  45.5  55.   20.\n",
      "  30.   95.   36.   78.5   6.   60.   15.   39.2  85.2  90.   30.   30.\n",
      "   4.    0.1   0.1  40.5  32.4  75.6   6.5  60.   10.4  66.6   2.5   6.5\n",
      "  45.   49.8  50.2  65.5   1.    9.5  34.6  35.   80.    8.   25.   15.\n",
      "  39.   34.5  80.   54.5  56.   40.6  30.   44.5  55.   88.4  10.    4.\n",
      "   6.5  29.   24.5  25.   36.5   7.5  35.   11.5  40.5  59.   55.4  52.6\n",
      "  60.    3.3  16.5   4. ]\n",
      "[0.7 1.  2.  0.6 1.1 1.7 0.5 1.  1.6 0.3 0.7 1.1 0.3 0.6 1.  0.3 1.1 1.5\n",
      " 0.3 0.7 0.3 1.2 2.  3.5 0.4 0.8 0.6 1.  0.4 0.8 1.3 0.5 0.9 1.4 0.6 1.3\n",
      " 0.6 1.1 0.5 1.  0.8 1.6 0.5 0.8 1.2 0.3 1.  1.  1.5 0.2 0.7 0.4 1.  0.8\n",
      " 1.7 0.5 1.  0.7 0.6 1.  1.3 0.9 1.3 1.5 0.8 1.5 0.7 1.  1.7 0.9 1.6 0.4\n",
      " 1.  1.7 1.2 1.6 0.3 1.  0.8 1.4 1.8 1.1 0.9 1.2 0.3 1.3 1.6 1.5 1.  1.6\n",
      " 0.4 1.3 0.5 1.2 0.4 0.4 1.  1.5 1.4 1.2 0.6 1.2 1.1 1.  2.2 0.4 1.2 0.6\n",
      " 1.3 0.8 1.1 1.3 1.5 1.4 1.1 1.3 1.5 1.4 0.9 0.3 0.3 1.  0.8 0.9 0.8 0.4\n",
      " 1.  0.5 1.3 1.8 1.7 1.6 2.  1.8 4.  0.4]\n"
     ]
    }
   ],
   "source": [
    "print(x)\n",
    "print(y)"
   ]
  },
  {
   "cell_type": "markdown",
   "id": "f8528314",
   "metadata": {},
   "source": [
    "Das Dataset wird dann in einen Test- und einen Trainingsdatensatz aufgeteilt. Hierfür werden 30% der Daten für die Testdaten angegeben (test_size = 0.3)"
   ]
  },
  {
   "cell_type": "code",
   "execution_count": 5,
   "id": "6b5d7fb8",
   "metadata": {
    "scrolled": true
   },
   "outputs": [],
   "source": [
    "x1, x2, y1, y2 = train_test_split(x, y, test_size = 0.3, random_state = 0)"
   ]
  },
  {
   "cell_type": "markdown",
   "id": "0d093b62",
   "metadata": {},
   "source": [
    "Anschließend wird die lineare Regression berechnet. Hierfür muss die xTrain-Variable reshaped werden, da .fit() ein zweidimensinoales Array erwartet."
   ]
  },
  {
   "cell_type": "code",
   "execution_count": 6,
   "id": "9167aad7",
   "metadata": {},
   "outputs": [],
   "source": [
    "x1 = x1.reshape(-1, 1)\n",
    "x2 = x2.reshape(-1, 1)\n",
    "\n",
    "linearRegressor = LinearRegression()\n",
    "linearRegressor.fit(x1, y1)\n",
    "yPrediction = linearRegressor.predict(x2)"
   ]
  },
  {
   "cell_type": "markdown",
   "id": "8459b6b4",
   "metadata": {},
   "source": [
    "Die Ergebnisse der Berechnung können nun in einem neuen Plot aufgetragen werden. Hierfür wird ein Plot mit Daten als rote Punkte dargestellt. Anschließend wird ein Plot in Linienform auf Basis der linearen Regression erstellt nd blau gefärbt. Dann werden Titel und Beschriftungen der Achsen angegeben und anschließend gezeichnet."
   ]
  },
  {
   "cell_type": "markdown",
   "id": "b59498e0",
   "metadata": {},
   "source": [
    "### Trainingsset"
   ]
  },
  {
   "cell_type": "code",
   "execution_count": 7,
   "id": "5f6e2fac",
   "metadata": {},
   "outputs": [
    {
     "data": {
      "image/png": "[encoded data removed]",
      "text/plain": [
       "<Figure size 432x288 with 1 Axes>"
      ]
     },
     "metadata": {
      "needs_background": "light"
     },
     "output_type": "display_data"
    }
   ],
   "source": [
    "plot.scatter(x1, y1)\n",
    "plot.plot(x1, linearRegressor.predict(x1), color=\"orange\")\n",
    "plot.xlabel('Weight in kg')\n",
    "plot.ylabel('Height in m')\n",
    "plot.show()"
   ]
  },
  {
   "cell_type": "markdown",
   "id": "f9631c79",
   "metadata": {},
   "source": [
    "### Testset"
   ]
  },
  {
   "cell_type": "code",
   "execution_count": 8,
   "id": "b92ebf00",
   "metadata": {},
   "outputs": [
    {
     "data": {
      "image/png": "[encoded data removed]",
      "text/plain": [
       "<Figure size 432x288 with 1 Axes>"
      ]
     },
     "metadata": {
      "needs_background": "light"
     },
     "output_type": "display_data"
    }
   ],
   "source": [
    "plot.scatter(x2, y2)\n",
    "plot.plot(x1, linearRegressor.predict(x1), color = 'orange')\n",
    "plot.xlabel('Weight in kg')\n",
    "plot.ylabel('Height in m')\n",
    "plot.show()"
   ]
  },
  {
   "cell_type": "code",
   "execution_count": null,
   "id": "a4fa4e46",
   "metadata": {},
   "outputs": [],
   "source": []
  }
 ],
 "metadata": {
  "kernelspec": {
   "display_name": "Python 3",
   "language": "python",
   "name": "python3"
  },
  "language_info": {
   "codemirror_mode": {
    "name": "ipython",
    "version": 3
   },
   "file_extension": ".py",
   "mimetype": "text/x-python",
   "name": "python",
   "nbconvert_exporter": "python",
   "pygments_lexer": "ipython3",
   "version": "3.8.8"
  }
 },
 "nbformat": 4,
 "nbformat_minor": 5
}
