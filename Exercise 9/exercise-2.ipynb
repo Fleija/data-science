{
 "cells": [
  {
   "cell_type": "markdown",
   "id": "f07c9003",
   "metadata": {},
   "source": [
    "# Exercise 2\n",
    "*You are walking in the forest and see an iris and measure: 4.8,2.5,5.3,2.4 Is this an Iris Virginica or not?*\n"
   ]
  },
  {
   "cell_type": "markdown",
   "id": "6efb1e81",
   "metadata": {},
   "source": [
    "Um herauszufinden, ob es sich bei den Daten 4.8,2.5,5.3,2.4 um eine Iris Virginica handelt, sollen zunächst alle wichtigen Imports vorgenommen werden. Anschließend wird das Iris-Dataset geladen.\n",
    "\n",
    "Um herauszufinden, ob es sich um eine Iris Virginica handelt, benötigen wir lediglich die Messdaten, sowie deren Klassifizierungen. Dank des Datensatzes wird auch klar, welcher vorgegebene Wert was bedeutet: \n",
    "- 4.8 => Sepal Length\n",
    "- 2.5 => Sepal Width\n",
    "- 5.3 => Petal Length\n",
    "- 2.4 => Petal Width\n",
    "\n",
    "Die benötigten Messwerte (data) und deren Klassifizierung (target, mit 0.0 = Iris Setosa, 1.0 = Iris Versicolor und 2.0 = Iris Virginica) in ein Dataframe eingefügt, um damit im Anschluss arbeiten zu können. Mit data wird anschließend das erstellte Dataframe betrachtet."
   ]
  },
  {
   "cell_type": "code",
   "execution_count": 1,
   "id": "b6180d30",
   "metadata": {},
   "outputs": [
    {
     "data": {
      "text/html": [
       "<div>\n",
       "<style scoped>\n",
       "    .dataframe tbody tr th:only-of-type {\n",
       "        vertical-align: middle;\n",
       "    }\n",
       "\n",
       "    .dataframe tbody tr th {\n",
       "        vertical-align: top;\n",
       "    }\n",
       "\n",
       "    .dataframe thead th {\n",
       "        text-align: right;\n",
       "    }\n",
       "</style>\n",
       "<table border=\"1\" class=\"dataframe\">\n",
       "  <thead>\n",
       "    <tr style=\"text-align: right;\">\n",
       "      <th></th>\n",
       "      <th>sepal length (cm)</th>\n",
       "      <th>sepal width (cm)</th>\n",
       "      <th>petal length (cm)</th>\n",
       "      <th>petal width (cm)</th>\n",
       "      <th>target</th>\n",
       "    </tr>\n",
       "  </thead>\n",
       "  <tbody>\n",
       "    <tr>\n",
       "      <th>0</th>\n",
       "      <td>5.1</td>\n",
       "      <td>3.5</td>\n",
       "      <td>1.4</td>\n",
       "      <td>0.2</td>\n",
       "      <td>0.0</td>\n",
       "    </tr>\n",
       "    <tr>\n",
       "      <th>1</th>\n",
       "      <td>4.9</td>\n",
       "      <td>3.0</td>\n",
       "      <td>1.4</td>\n",
       "      <td>0.2</td>\n",
       "      <td>0.0</td>\n",
       "    </tr>\n",
       "    <tr>\n",
       "      <th>2</th>\n",
       "      <td>4.7</td>\n",
       "      <td>3.2</td>\n",
       "      <td>1.3</td>\n",
       "      <td>0.2</td>\n",
       "      <td>0.0</td>\n",
       "    </tr>\n",
       "    <tr>\n",
       "      <th>3</th>\n",
       "      <td>4.6</td>\n",
       "      <td>3.1</td>\n",
       "      <td>1.5</td>\n",
       "      <td>0.2</td>\n",
       "      <td>0.0</td>\n",
       "    </tr>\n",
       "    <tr>\n",
       "      <th>4</th>\n",
       "      <td>5.0</td>\n",
       "      <td>3.6</td>\n",
       "      <td>1.4</td>\n",
       "      <td>0.2</td>\n",
       "      <td>0.0</td>\n",
       "    </tr>\n",
       "    <tr>\n",
       "      <th>...</th>\n",
       "      <td>...</td>\n",
       "      <td>...</td>\n",
       "      <td>...</td>\n",
       "      <td>...</td>\n",
       "      <td>...</td>\n",
       "    </tr>\n",
       "    <tr>\n",
       "      <th>145</th>\n",
       "      <td>6.7</td>\n",
       "      <td>3.0</td>\n",
       "      <td>5.2</td>\n",
       "      <td>2.3</td>\n",
       "      <td>2.0</td>\n",
       "    </tr>\n",
       "    <tr>\n",
       "      <th>146</th>\n",
       "      <td>6.3</td>\n",
       "      <td>2.5</td>\n",
       "      <td>5.0</td>\n",
       "      <td>1.9</td>\n",
       "      <td>2.0</td>\n",
       "    </tr>\n",
       "    <tr>\n",
       "      <th>147</th>\n",
       "      <td>6.5</td>\n",
       "      <td>3.0</td>\n",
       "      <td>5.2</td>\n",
       "      <td>2.0</td>\n",
       "      <td>2.0</td>\n",
       "    </tr>\n",
       "    <tr>\n",
       "      <th>148</th>\n",
       "      <td>6.2</td>\n",
       "      <td>3.4</td>\n",
       "      <td>5.4</td>\n",
       "      <td>2.3</td>\n",
       "      <td>2.0</td>\n",
       "    </tr>\n",
       "    <tr>\n",
       "      <th>149</th>\n",
       "      <td>5.9</td>\n",
       "      <td>3.0</td>\n",
       "      <td>5.1</td>\n",
       "      <td>1.8</td>\n",
       "      <td>2.0</td>\n",
       "    </tr>\n",
       "  </tbody>\n",
       "</table>\n",
       "<p>150 rows × 5 columns</p>\n",
       "</div>"
      ],
      "text/plain": [
       "     sepal length (cm)  sepal width (cm)  petal length (cm)  petal width (cm)  \\\n",
       "0                  5.1               3.5                1.4               0.2   \n",
       "1                  4.9               3.0                1.4               0.2   \n",
       "2                  4.7               3.2                1.3               0.2   \n",
       "3                  4.6               3.1                1.5               0.2   \n",
       "4                  5.0               3.6                1.4               0.2   \n",
       "..                 ...               ...                ...               ...   \n",
       "145                6.7               3.0                5.2               2.3   \n",
       "146                6.3               2.5                5.0               1.9   \n",
       "147                6.5               3.0                5.2               2.0   \n",
       "148                6.2               3.4                5.4               2.3   \n",
       "149                5.9               3.0                5.1               1.8   \n",
       "\n",
       "     target  \n",
       "0       0.0  \n",
       "1       0.0  \n",
       "2       0.0  \n",
       "3       0.0  \n",
       "4       0.0  \n",
       "..      ...  \n",
       "145     2.0  \n",
       "146     2.0  \n",
       "147     2.0  \n",
       "148     2.0  \n",
       "149     2.0  \n",
       "\n",
       "[150 rows x 5 columns]"
      ]
     },
     "execution_count": 1,
     "metadata": {},
     "output_type": "execute_result"
    }
   ],
   "source": [
    "import numpy as np\n",
    "import pandas as pd\n",
    "from sklearn import datasets\n",
    "from sklearn.linear_model import LogisticRegression\n",
    "import matplotlib.pyplot as plt\n",
    "\n",
    "iris = datasets.load_iris()\n",
    "\n",
    "data = pd.DataFrame(data= np.c_[iris['data'], iris['target']], columns= iris['feature_names'] + ['target'])\n",
    "\n",
    "data"
   ]
  },
  {
   "cell_type": "markdown",
   "id": "b6b0e8b0",
   "metadata": {},
   "source": [
    "Die letzte Spalte, target, soll nun zunächst von Float zu Integer gemacht werden. Anschließend werden die Iris-Variationen, die nicht Virginica sind auf 0 gesetzt. Jene Datensätze zur Iris Virginica werden hingegen auf 1 gesetzt."
   ]
  },
  {
   "cell_type": "code",
   "execution_count": 2,
   "id": "9469e5c2",
   "metadata": {},
   "outputs": [
    {
     "data": {
      "text/html": [
       "<div>\n",
       "<style scoped>\n",
       "    .dataframe tbody tr th:only-of-type {\n",
       "        vertical-align: middle;\n",
       "    }\n",
       "\n",
       "    .dataframe tbody tr th {\n",
       "        vertical-align: top;\n",
       "    }\n",
       "\n",
       "    .dataframe thead th {\n",
       "        text-align: right;\n",
       "    }\n",
       "</style>\n",
       "<table border=\"1\" class=\"dataframe\">\n",
       "  <thead>\n",
       "    <tr style=\"text-align: right;\">\n",
       "      <th></th>\n",
       "      <th>sepal length (cm)</th>\n",
       "      <th>sepal width (cm)</th>\n",
       "      <th>petal length (cm)</th>\n",
       "      <th>petal width (cm)</th>\n",
       "      <th>target</th>\n",
       "    </tr>\n",
       "  </thead>\n",
       "  <tbody>\n",
       "    <tr>\n",
       "      <th>0</th>\n",
       "      <td>5.1</td>\n",
       "      <td>3.5</td>\n",
       "      <td>1.4</td>\n",
       "      <td>0.2</td>\n",
       "      <td>0</td>\n",
       "    </tr>\n",
       "    <tr>\n",
       "      <th>1</th>\n",
       "      <td>4.9</td>\n",
       "      <td>3.0</td>\n",
       "      <td>1.4</td>\n",
       "      <td>0.2</td>\n",
       "      <td>0</td>\n",
       "    </tr>\n",
       "    <tr>\n",
       "      <th>2</th>\n",
       "      <td>4.7</td>\n",
       "      <td>3.2</td>\n",
       "      <td>1.3</td>\n",
       "      <td>0.2</td>\n",
       "      <td>0</td>\n",
       "    </tr>\n",
       "    <tr>\n",
       "      <th>3</th>\n",
       "      <td>4.6</td>\n",
       "      <td>3.1</td>\n",
       "      <td>1.5</td>\n",
       "      <td>0.2</td>\n",
       "      <td>0</td>\n",
       "    </tr>\n",
       "    <tr>\n",
       "      <th>4</th>\n",
       "      <td>5.0</td>\n",
       "      <td>3.6</td>\n",
       "      <td>1.4</td>\n",
       "      <td>0.2</td>\n",
       "      <td>0</td>\n",
       "    </tr>\n",
       "    <tr>\n",
       "      <th>...</th>\n",
       "      <td>...</td>\n",
       "      <td>...</td>\n",
       "      <td>...</td>\n",
       "      <td>...</td>\n",
       "      <td>...</td>\n",
       "    </tr>\n",
       "    <tr>\n",
       "      <th>145</th>\n",
       "      <td>6.7</td>\n",
       "      <td>3.0</td>\n",
       "      <td>5.2</td>\n",
       "      <td>2.3</td>\n",
       "      <td>1</td>\n",
       "    </tr>\n",
       "    <tr>\n",
       "      <th>146</th>\n",
       "      <td>6.3</td>\n",
       "      <td>2.5</td>\n",
       "      <td>5.0</td>\n",
       "      <td>1.9</td>\n",
       "      <td>1</td>\n",
       "    </tr>\n",
       "    <tr>\n",
       "      <th>147</th>\n",
       "      <td>6.5</td>\n",
       "      <td>3.0</td>\n",
       "      <td>5.2</td>\n",
       "      <td>2.0</td>\n",
       "      <td>1</td>\n",
       "    </tr>\n",
       "    <tr>\n",
       "      <th>148</th>\n",
       "      <td>6.2</td>\n",
       "      <td>3.4</td>\n",
       "      <td>5.4</td>\n",
       "      <td>2.3</td>\n",
       "      <td>1</td>\n",
       "    </tr>\n",
       "    <tr>\n",
       "      <th>149</th>\n",
       "      <td>5.9</td>\n",
       "      <td>3.0</td>\n",
       "      <td>5.1</td>\n",
       "      <td>1.8</td>\n",
       "      <td>1</td>\n",
       "    </tr>\n",
       "  </tbody>\n",
       "</table>\n",
       "<p>150 rows × 5 columns</p>\n",
       "</div>"
      ],
      "text/plain": [
       "     sepal length (cm)  sepal width (cm)  petal length (cm)  petal width (cm)  \\\n",
       "0                  5.1               3.5                1.4               0.2   \n",
       "1                  4.9               3.0                1.4               0.2   \n",
       "2                  4.7               3.2                1.3               0.2   \n",
       "3                  4.6               3.1                1.5               0.2   \n",
       "4                  5.0               3.6                1.4               0.2   \n",
       "..                 ...               ...                ...               ...   \n",
       "145                6.7               3.0                5.2               2.3   \n",
       "146                6.3               2.5                5.0               1.9   \n",
       "147                6.5               3.0                5.2               2.0   \n",
       "148                6.2               3.4                5.4               2.3   \n",
       "149                5.9               3.0                5.1               1.8   \n",
       "\n",
       "     target  \n",
       "0         0  \n",
       "1         0  \n",
       "2         0  \n",
       "3         0  \n",
       "4         0  \n",
       "..      ...  \n",
       "145       1  \n",
       "146       1  \n",
       "147       1  \n",
       "148       1  \n",
       "149       1  \n",
       "\n",
       "[150 rows x 5 columns]"
      ]
     },
     "execution_count": 2,
     "metadata": {},
     "output_type": "execute_result"
    }
   ],
   "source": [
    "data[\"target\"] = data[\"target\"].astype(int)\n",
    "\n",
    "data.loc[(data.target < 2),'target'] = 0\n",
    "data.loc[(data.target == 2),'target'] = 1\n",
    "\n",
    "data"
   ]
  },
  {
   "cell_type": "markdown",
   "id": "b4c96041",
   "metadata": {},
   "source": [
    "## Plotting\n",
    "Mit dem so vorbereiteten Datensatz sollen als nächstes vier Plots für jeweils eine Spalte des Datensatzes erstellt werden. Hierfür soll jeweils eine Spalte ausgewählt werden und gemeinsam mit der target-Spalte für eine Regression genutzt werden. Durch die Nutzung von LogisticRegression() wird die gewollte Regression erstellt, mit welcher in einem nächsten Schritt dann der Graph gezeichnet werden soll. \n",
    "\n",
    "Dieser Graph zeigt in blau die Wahrscheinlichkeitskurve für eine Iris Virginica an, da die genutzten Daten im Datensatz auf die x-Achse und die Zugehörigkeit zu der Klasse auf der y-Achse aufgetragen werden. Damit entsteht eine Wahrscheinlichkeitskurve, welche durch eine Angabe von 150 (wegen 150 Datensätzen) durch np.linspace() geglättet wird. Die Dimensionen des Plots werden den gegebenen Werten angepasst.\n",
    "\n",
    "Zusätzlich wird als vertikaler Graph außerdem der Messwert angegeben, welcher gemessen wurde. Der Schnittpunkt des roten und des blauen Graphen geben schließlich die Wahrscheinlichkeit an, dass es sich bei dem Messwert um eine Iris Virginica handelt. \n",
    "\n",
    "Der genaue Wert der Wahrscheinlichkeit wird durch die predict_proba()-Funktion erhalten, dessen zweiter Wert im Array die errechnete Wahrscheinlichkeit und damit den Schnittpunkt beider Graphen wiedergibt."
   ]
  },
  {
   "cell_type": "markdown",
   "id": "6d2bffb0",
   "metadata": {},
   "source": [
    "### Petal Width"
   ]
  },
  {
   "cell_type": "markdown",
   "id": "3268f3eb",
   "metadata": {},
   "source": [
    "#### Vorbereitung"
   ]
  },
  {
   "cell_type": "code",
   "execution_count": 3,
   "id": "f79583bc",
   "metadata": {
    "scrolled": false
   },
   "outputs": [
    {
     "data": {
      "text/plain": [
       "LogisticRegression()"
      ]
     },
     "execution_count": 3,
     "metadata": {},
     "output_type": "execute_result"
    }
   ],
   "source": [
    "X_petal_width = data[\"petal width (cm)\"].values.reshape(-1, 1) \n",
    "y_petal_width = data[\"target\"]\n",
    "\n",
    "X_petal_width\n",
    "\n",
    "regression_petal_width = LogisticRegression()\n",
    "regression_petal_width.fit(X_petal_width, y_petal_width)"
   ]
  },
  {
   "cell_type": "markdown",
   "id": "7266f333",
   "metadata": {},
   "source": [
    "#### Zeichnen"
   ]
  },
  {
   "cell_type": "code",
   "execution_count": 4,
   "id": "aba8834c",
   "metadata": {
    "scrolled": false
   },
   "outputs": [
    {
     "data": {
      "text/plain": [
       "<matplotlib.lines.Line2D at 0x1bec3490dc0>"
      ]
     },
     "execution_count": 4,
     "metadata": {},
     "output_type": "execute_result"
    },
    {
     "data": {
      "image/png": "[encoded data removed]",
      "text/plain": [
       "<Figure size 432x288 with 1 Axes>"
      ]
     },
     "metadata": {
      "needs_background": "light"
     },
     "output_type": "display_data"
    }
   ],
   "source": [
    "X_petal_width_new = np.linspace(0, 10, 150).reshape(-1, 1)\n",
    "y_petal_width_proba = regression_petal_width.predict_proba(X_petal_width_new)\n",
    "plt.plot(X_petal_width_new, y_petal_width_proba[:, 1])\n",
    "\n",
    "plt.axvline(2.4, color=\"red\", linestyle=\"--\")"
   ]
  },
  {
   "cell_type": "markdown",
   "id": "8b6e685c",
   "metadata": {},
   "source": [
    "#### Wahrscheinlichkeit"
   ]
  },
  {
   "cell_type": "code",
   "execution_count": 5,
   "id": "e8d476f9",
   "metadata": {},
   "outputs": [
    {
     "data": {
      "text/plain": [
       "array([[0.03898943, 0.96101057]])"
      ]
     },
     "execution_count": 5,
     "metadata": {},
     "output_type": "execute_result"
    }
   ],
   "source": [
    "petal_width_prob = regression_petal_width.predict_proba(np.array([[2.4]]))\n",
    "petal_width_prob"
   ]
  },
  {
   "cell_type": "markdown",
   "id": "3c23062c",
   "metadata": {},
   "source": [
    "### Petal Length"
   ]
  },
  {
   "cell_type": "markdown",
   "id": "d072f4b9",
   "metadata": {},
   "source": [
    "#### Vorbereitung"
   ]
  },
  {
   "cell_type": "code",
   "execution_count": 6,
   "id": "ebcdd6b5",
   "metadata": {},
   "outputs": [
    {
     "data": {
      "text/plain": [
       "LogisticRegression()"
      ]
     },
     "execution_count": 6,
     "metadata": {},
     "output_type": "execute_result"
    }
   ],
   "source": [
    "X_petal_length = data[\"petal length (cm)\"].values.reshape(-1, 1)\n",
    "y_petal_length = data[\"target\"]\n",
    "\n",
    "X_petal_length\n",
    "\n",
    "regression_petal_length = LogisticRegression()\n",
    "regression_petal_length.fit(X_petal_length, y_petal_length)"
   ]
  },
  {
   "cell_type": "markdown",
   "id": "68991b1e",
   "metadata": {},
   "source": [
    "#### Zeichnen"
   ]
  },
  {
   "cell_type": "code",
   "execution_count": 7,
   "id": "79a8fde6",
   "metadata": {
    "scrolled": true
   },
   "outputs": [
    {
     "data": {
      "text/plain": [
       "<matplotlib.lines.Line2D at 0x1bec35826d0>"
      ]
     },
     "execution_count": 7,
     "metadata": {},
     "output_type": "execute_result"
    },
    {
     "data": {
      "image/png": "[encoded data removed]",
      "text/plain": [
       "<Figure size 432x288 with 1 Axes>"
      ]
     },
     "metadata": {
      "needs_background": "light"
     },
     "output_type": "display_data"
    }
   ],
   "source": [
    "X_petal_length_new = np.linspace(0, 10, 150).reshape(-1, 1)\n",
    "y_petal_length_proba = regression_petal_length.predict_proba(X_petal_length_new)\n",
    "plt.plot(X_petal_length_new, y_petal_length_proba[:, 1])\n",
    "\n",
    "plt.axvline(5.3, color=\"red\", linestyle=\"--\")"
   ]
  },
  {
   "cell_type": "markdown",
   "id": "f1d409b0",
   "metadata": {},
   "source": [
    "#### Wahrscheinlichkeit"
   ]
  },
  {
   "cell_type": "code",
   "execution_count": 8,
   "id": "4fbaa987",
   "metadata": {},
   "outputs": [
    {
     "data": {
      "text/plain": [
       "array([[0.17910091, 0.82089909]])"
      ]
     },
     "execution_count": 8,
     "metadata": {},
     "output_type": "execute_result"
    }
   ],
   "source": [
    "petal_length_prob = regression_petal_length.predict_proba(np.array([[5.3]]))\n",
    "petal_length_prob"
   ]
  },
  {
   "cell_type": "markdown",
   "id": "8a585b53",
   "metadata": {},
   "source": [
    "### Sepal Length"
   ]
  },
  {
   "cell_type": "markdown",
   "id": "e1a5a37d",
   "metadata": {},
   "source": [
    "#### Vorbereitung"
   ]
  },
  {
   "cell_type": "code",
   "execution_count": 9,
   "id": "d3c7e52c",
   "metadata": {},
   "outputs": [
    {
     "data": {
      "text/plain": [
       "LogisticRegression()"
      ]
     },
     "execution_count": 9,
     "metadata": {},
     "output_type": "execute_result"
    }
   ],
   "source": [
    "X_sepal_length = data[\"sepal length (cm)\"].values.reshape(-1, 1)\n",
    "y_sepal_length = data[\"target\"]\n",
    "\n",
    "X_sepal_length\n",
    "\n",
    "regression_sepal_length = LogisticRegression()\n",
    "regression_sepal_length.fit(X_sepal_length, y_sepal_length)"
   ]
  },
  {
   "cell_type": "markdown",
   "id": "33b1323d",
   "metadata": {},
   "source": [
    "#### Zeichnen"
   ]
  },
  {
   "cell_type": "code",
   "execution_count": 10,
   "id": "f66d80fe",
   "metadata": {
    "scrolled": false
   },
   "outputs": [
    {
     "data": {
      "text/plain": [
       "<matplotlib.lines.Line2D at 0x1bec35e7850>"
      ]
     },
     "execution_count": 10,
     "metadata": {},
     "output_type": "execute_result"
    },
    {
     "data": {
      "image/png": "[encoded data removed]",
      "text/plain": [
       "<Figure size 432x288 with 1 Axes>"
      ]
     },
     "metadata": {
      "needs_background": "light"
     },
     "output_type": "display_data"
    }
   ],
   "source": [
    "X_sepal_length_new = np.linspace(0, 10, 150).reshape(-1, 1)\n",
    "y_sepal_length_proba = regression_sepal_length.predict_proba(X_sepal_length_new)\n",
    "plt.plot(X_sepal_length_new, y_sepal_length_proba[:, 1])\n",
    "\n",
    "plt.axvline(4.8, color=\"red\", linestyle=\"--\")"
   ]
  },
  {
   "cell_type": "markdown",
   "id": "fb15a0a9",
   "metadata": {},
   "source": [
    "#### Wahrscheinlichkeit"
   ]
  },
  {
   "cell_type": "code",
   "execution_count": 11,
   "id": "8d13f53e",
   "metadata": {},
   "outputs": [
    {
     "data": {
      "text/plain": [
       "array([[0.96762366, 0.03237634]])"
      ]
     },
     "execution_count": 11,
     "metadata": {},
     "output_type": "execute_result"
    }
   ],
   "source": [
    "sepal_length_prob = regression_sepal_length.predict_proba(np.array([[4.8]]))\n",
    "sepal_length_prob"
   ]
  },
  {
   "cell_type": "markdown",
   "id": "d9ecb83b",
   "metadata": {},
   "source": [
    "### Sepal Width"
   ]
  },
  {
   "cell_type": "markdown",
   "id": "f607c30e",
   "metadata": {},
   "source": [
    "#### Vorbereitung"
   ]
  },
  {
   "cell_type": "code",
   "execution_count": 12,
   "id": "499cb8c9",
   "metadata": {},
   "outputs": [
    {
     "data": {
      "text/plain": [
       "LogisticRegression()"
      ]
     },
     "execution_count": 12,
     "metadata": {},
     "output_type": "execute_result"
    }
   ],
   "source": [
    "X_sepal_width = data[\"sepal width (cm)\"].values.reshape(-1, 1)\n",
    "y_sepal_width = data[\"target\"]\n",
    "\n",
    "X_sepal_width\n",
    "\n",
    "regression_sepal_width = LogisticRegression()\n",
    "regression_sepal_width.fit(X_sepal_width, y_sepal_width)"
   ]
  },
  {
   "cell_type": "markdown",
   "id": "d17df075",
   "metadata": {},
   "source": [
    "#### Zeichnen"
   ]
  },
  {
   "cell_type": "code",
   "execution_count": 13,
   "id": "9bceb30e",
   "metadata": {
    "scrolled": false
   },
   "outputs": [
    {
     "data": {
      "text/plain": [
       "<matplotlib.lines.Line2D at 0x1bec3644ac0>"
      ]
     },
     "execution_count": 13,
     "metadata": {},
     "output_type": "execute_result"
    },
    {
     "data": {
      "image/png": "[encoded data removed]",
      "text/plain": [
       "<Figure size 432x288 with 1 Axes>"
      ]
     },
     "metadata": {
      "needs_background": "light"
     },
     "output_type": "display_data"
    }
   ],
   "source": [
    "X_sepal_width_new = np.linspace(0, 10, 150).reshape(-1, 1)\n",
    "y_sepal_width_proba = regression_sepal_width.predict_proba(X_sepal_width_new)\n",
    "plt.plot(X_sepal_width_new, y_sepal_width_proba[:, 1])\n",
    "\n",
    "plt.axvline(2.5, color=\"red\", linestyle=\"--\")"
   ]
  },
  {
   "cell_type": "markdown",
   "id": "935101d4",
   "metadata": {},
   "source": [
    "#### Wahrscheinlichkeit"
   ]
  },
  {
   "cell_type": "code",
   "execution_count": 14,
   "id": "013101bd",
   "metadata": {},
   "outputs": [
    {
     "data": {
      "text/plain": [
       "array([[0.5933503, 0.4066497]])"
      ]
     },
     "execution_count": 14,
     "metadata": {},
     "output_type": "execute_result"
    }
   ],
   "source": [
    "sepal_width_prob = regression_sepal_width.predict_proba(np.array([[2.5]]))\n",
    "sepal_width_prob"
   ]
  },
  {
   "cell_type": "markdown",
   "id": "64ead507",
   "metadata": {},
   "source": [
    "## Ergebnis\n",
    "Die so erhaltenen Wahrscheinlichkeiten können addiert und durch die Anzahl an Summanden geteilt werden, um die Gesamtwahrscheinlichkeit dafür zu erhalten, ob es sich bei der gemessenen Pflanze um eine Iris Virginica handelt:"
   ]
  },
  {
   "cell_type": "markdown",
   "id": "d26248f9",
   "metadata": {},
   "source": [
    "#### Wahrscheinlichkeit auf Iris Virginica: Petal Width"
   ]
  },
  {
   "cell_type": "code",
   "execution_count": 15,
   "id": "4227f2d2",
   "metadata": {},
   "outputs": [
    {
     "data": {
      "text/plain": [
       "0.9610105664849115"
      ]
     },
     "execution_count": 15,
     "metadata": {},
     "output_type": "execute_result"
    }
   ],
   "source": [
    "petal_width_prob[:, 1][0]"
   ]
  },
  {
   "cell_type": "markdown",
   "id": "1ebc100d",
   "metadata": {},
   "source": [
    "#### Wahrscheinlichkeit auf Iris Virginica: Petal Length"
   ]
  },
  {
   "cell_type": "code",
   "execution_count": 16,
   "id": "abea786c",
   "metadata": {},
   "outputs": [
    {
     "data": {
      "text/plain": [
       "0.8208990867977308"
      ]
     },
     "execution_count": 16,
     "metadata": {},
     "output_type": "execute_result"
    }
   ],
   "source": [
    "petal_length_prob[:, 1][0]"
   ]
  },
  {
   "cell_type": "markdown",
   "id": "308070de",
   "metadata": {},
   "source": [
    "#### Wahrscheinlichkeit auf Iris Virginica: Sepal Length"
   ]
  },
  {
   "cell_type": "code",
   "execution_count": 17,
   "id": "83541d49",
   "metadata": {},
   "outputs": [
    {
     "data": {
      "text/plain": [
       "0.0323763367786129"
      ]
     },
     "execution_count": 17,
     "metadata": {},
     "output_type": "execute_result"
    }
   ],
   "source": [
    "sepal_length_prob[:, 1][0]"
   ]
  },
  {
   "cell_type": "markdown",
   "id": "f5079c52",
   "metadata": {},
   "source": [
    "#### Wahrscheinlichkeit auf Iris Virginica: Sepal Width"
   ]
  },
  {
   "cell_type": "code",
   "execution_count": 18,
   "id": "6ca908db",
   "metadata": {},
   "outputs": [
    {
     "data": {
      "text/plain": [
       "0.40664969574021453"
      ]
     },
     "execution_count": 18,
     "metadata": {},
     "output_type": "execute_result"
    }
   ],
   "source": [
    "sepal_width_prob[:, 1][0]"
   ]
  },
  {
   "cell_type": "markdown",
   "id": "8f45c5f5",
   "metadata": {},
   "source": [
    "#### Gesamtwahrscheinlichkeit auf Iris Virginica"
   ]
  },
  {
   "cell_type": "code",
   "execution_count": 20,
   "id": "454c26a5",
   "metadata": {},
   "outputs": [
    {
     "data": {
      "text/plain": [
       "0.5552339214503674"
      ]
     },
     "execution_count": 20,
     "metadata": {},
     "output_type": "execute_result"
    }
   ],
   "source": [
    "iris_virginica_prob = (petal_width_prob[:, 1] + petal_length_prob[:, 1] + sepal_length_prob[:, 1] + sepal_width_prob[:, 1]) / 4\n",
    "iris_virginica_prob[0]"
   ]
  }
 ],
 "metadata": {
  "kernelspec": {
   "display_name": "Python 3",
   "language": "python",
   "name": "python3"
  },
  "language_info": {
   "codemirror_mode": {
    "name": "ipython",
    "version": 3
   },
   "file_extension": ".py",
   "mimetype": "text/x-python",
   "name": "python",
   "nbconvert_exporter": "python",
   "pygments_lexer": "ipython3",
   "version": "3.8.8"
  }
 },
 "nbformat": 4,
 "nbformat_minor": 5
}
